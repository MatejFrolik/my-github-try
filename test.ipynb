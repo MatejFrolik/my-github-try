{
  "nbformat": 4,
  "nbformat_minor": 0,
  "metadata": {
    "colab": {
      "provenance": [],
      "authorship_tag": "ABX9TyNlS14fU+u+z/gOrI8t6TCR",
      "include_colab_link": true
    },
    "kernelspec": {
      "name": "python3",
      "display_name": "Python 3"
    },
    "language_info": {
      "name": "python"
    }
  },
  "cells": [
    {
      "cell_type": "markdown",
      "metadata": {
        "id": "view-in-github",
        "colab_type": "text"
      },
      "source": [
        "<a href=\"https://colab.research.google.com/github/MatejFrolik/my-github-try/blob/main/test.ipynb\" target=\"_parent\"><img src=\"https://colab.research.google.com/assets/colab-badge.svg\" alt=\"Open In Colab\"/></a>"
      ]
    },
    {
      "cell_type": "code",
      "execution_count": null,
      "metadata": {
        "id": "yn8dbJ2bZOWm"
      },
      "outputs": [],
      "source": [
        "mesta = ['Praha', 'Teplice', 'Brno', 'Zlín', 'Pardubice']\n",
        "ceny = [300, 200, 130, 340, 180]\n",
        "oddelovac = '=' * 60\n",
        "print(oddelovac)\n",
        "print('Vítejte na eshopu IDOS, vyberte si císlovou destinaci')\n",
        "print(oddelovac)\n",
        "\n",
        "print(\n",
        "    \"\"\"\n",
        "Výběr z destinací:\n",
        "1| Praha     |300,-\n",
        "2| Teplice   |200,-\n",
        "3| Brno      |130,-\n",
        "4| Zlín      |340,-\n",
        "5| Pardubice |180,-\n",
        "    \"\"\"\n",
        ")\n",
        "cislo_lokality = int(input('Zadejte číslo lokality:'))\n",
        "jmeno = input('Zadejte vaše jméno:')\n",
        "prijmeni = input('Zadejte vaše příjmení:')\n",
        "rok_narozeni = int(input('Zadejte rok narození:'))\n",
        "email = input('Zadejte váš email:')\n",
        "telefon = int(input('Zadejte váš telefon:'))\n",
        "\n",
        "cilova_destinace = mesta[cislo_lokality -1]\n",
        "cena = ceny[cislo_lokality -1 ]\n",
        "\n",
        "print(oddelovac)\n",
        "\n",
        "print('Děkujeme za váš nákup u společnosti IDOS, vaše cílová destinace je:', cilova_destinace, \n",
        "      ',cena za lístek je:', cena, \n",
        "      'kód lístku vám přijde na vaše telefonní číslo:', telefon)\n"
      ]
    }
  ]
}